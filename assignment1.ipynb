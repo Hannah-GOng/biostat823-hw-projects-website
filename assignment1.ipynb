{
 "cells": [
  {
   "cell_type": "code",
   "execution_count": null,
   "metadata": {},
   "outputs": [],
   "source": [
    "### Han Gong\n",
    "### Assignment Blog: https://hannah-gong.github.io/biostat823-hw-projects-website/\n",
    "### Repo: https://github.com/Hannah-GOng/biostat823-hw-projects-website"
   ]
  },
  {
   "cell_type": "markdown",
   "metadata": {},
   "source": [
    "#### Problem 6: Sum square difference\n",
    "##### solved by: 496331"
   ]
  },
  {
   "cell_type": "markdown",
   "metadata": {},
   "source": [
    "The sum of the squares of the first ten natural numbers is,  \n",
    "$$1^2+2^2+3^2...+10^2 = 385$$  \n",
    "The square of the sum of the first ten natural numbers is,  \n",
    "$$(1+2+...10)^2 = 55^2 = 3025$$  \n",
    "Hence the difference between the sum of the squares of the first ten natural numbers and the square of the sum is 2640  \n",
    "\n",
    "**Find the difference between the sum of the squares of the first one hundred natural numbers and the square of the sum.**"
   ]
  },
  {
   "cell_type": "code",
   "execution_count": 7,
   "metadata": {},
   "outputs": [
    {
     "name": "stdout",
     "output_type": "stream",
     "text": [
      "25164150\n"
     ]
    }
   ],
   "source": [
    "def sum_square_difference(n):\n",
    "    '''\n",
    "    create a function to calculate the difference between the sum of the squares \n",
    "    and the square of the sum of a list of consecutive natural numbers \n",
    "    '''\n",
    "    lst = [i for i in range(1, n+1)]\n",
    "    sum_square = sum([i**2 for i in lst])\n",
    "    square_sum = sum(lst)**2\n",
    "    return square_sum - sum_square\n",
    "\n",
    "print(sum_square_difference(100))"
   ]
  },
  {
   "cell_type": "markdown",
   "metadata": {},
   "source": [
    "#### Problem 50: Consecutive prime sum\n",
    "##### solved by: 62921"
   ]
  },
  {
   "cell_type": "markdown",
   "metadata": {},
   "source": [
    "The prime 41, can be written as the sum of six consecutive primes:  \n",
    "\n",
    "$$41 = 2 + 3 + 5 + 7 + 11 + 13$$\n",
    "This is the longest sum of consecutive primes that adds to a prime below one-hundred. The longest sum of consecutive primes below one-thousand that adds to a prime, contains 21 terms, and is equal to 953.\n",
    "\n",
    "**Which prime, below one-million, can be written as the sum of the most consecutive primes?**"
   ]
  },
  {
   "cell_type": "code",
   "execution_count": 3,
   "metadata": {},
   "outputs": [],
   "source": [
    "def isprm(num):\n",
    "    '''\n",
    "    fuction to check if a number is prime\n",
    "    return True for a prime number\n",
    "    '''\n",
    "    flag = True\n",
    "    \n",
    "    if num < 1:\n",
    "        flag = False\n",
    "    \n",
    "    if num > 1:\n",
    "        for i in range(2, num):\n",
    "            if (num % i) == 0:\n",
    "                flag = False\n",
    "                break\n",
    "    return flag"
   ]
  },
  {
   "cell_type": "code",
   "execution_count": 11,
   "metadata": {},
   "outputs": [],
   "source": [
    "def max_prime(n):\n",
    "    \n",
    "    # Initialize prime list below n\n",
    "    prime_lst = []\n",
    "    max_prime = 0\n",
    " \n",
    "    for num in range(2, n+1):\n",
    "        if isprm(num) == True :\n",
    "            prime_lst.append(num)\n",
    "    \n",
    "    # Initialize prime_num, length, output, limit\n",
    "    prime_sum = 0\n",
    "    length = 1\n",
    "    max_prime = 0\n",
    "    limit = n\n",
    "\n",
    "    for i in range(len(prime_lst)):\n",
    "        prime_sum = prime_lst[i]\n",
    "        \n",
    "        # check if the rest of list have the potential \n",
    "        # to beat the current length\n",
    "        if prime_lst[i] > limit:\n",
    "            return max_prime\n",
    "        \n",
    "        for j in range(i+1, len(prime_lst)):\n",
    "            prime_sum += prime_lst[j]\n",
    "            \n",
    "            if prime_sum > n:\n",
    "                break\n",
    " \n",
    "            elif j-i > length and prime_sum in prime_lst:\n",
    "                length = j-i\n",
    "                limit = n/length\n",
    "                max_prime = prime_sum\n",
    "    \n",
    "    return max_prime"
   ]
  },
  {
   "cell_type": "code",
   "execution_count": 13,
   "metadata": {},
   "outputs": [
    {
     "name": "stdout",
     "output_type": "stream",
     "text": [
      "997651\n"
     ]
    }
   ],
   "source": [
    "print(max_prime(1000000))"
   ]
  },
  {
   "cell_type": "markdown",
   "metadata": {},
   "source": [
    "#### Problem 125: Palindromic sums\n",
    "##### solved by: 13355"
   ]
  },
  {
   "cell_type": "markdown",
   "metadata": {},
   "source": [
    "The palindromic number 595 is interesting because it can be written as the sum of consecutive squares: 6^2 + 7^2 + 8^2 + 9^2 + 10^2 + 11^2 + 12^2.\n",
    "\n",
    "There are exactly eleven palindromes below one-thousand that can be written as consecutive square sums, and the sum of these palindromes is 4164. Note that 1 = 02 + 12 has not been included as this problem is concerned with the squares of positive integers.\n",
    "\n",
    "**Find the sum of all the numbers less than 10^8 that are both palindromic and can be written as the sum of consecutive squares.**"
   ]
  },
  {
   "cell_type": "code",
   "execution_count": 1,
   "metadata": {},
   "outputs": [],
   "source": [
    "def is_palindrome(num):\n",
    "    return str(num)[::-1] == str(num)"
   ]
  },
  {
   "cell_type": "code",
   "execution_count": 11,
   "metadata": {},
   "outputs": [],
   "source": [
    "def palindrome_sum(limit):\n",
    "    \n",
    "    # use set to avoid duplication\n",
    "    palindrome_lst = set()\n",
    "    \n",
    "    # initialize list for square\n",
    "    square = [i**2 for i in range(int(limit**0.5))]\n",
    "    \n",
    "    # loop over squares\n",
    "    for i in range(len(square)):\n",
    "        square_sum = square[i]\n",
    "        \n",
    "        for j in range(i+1, len(square)):\n",
    "            square_sum += square[j]\n",
    "            \n",
    "            if square_sum > limit:\n",
    "                break\n",
    "            if is_palindrome(square_sum):\n",
    "                palindrome_lst.add(square_sum)\n",
    "    \n",
    "    return sum(palindrome_lst)"
   ]
  },
  {
   "cell_type": "code",
   "execution_count": 12,
   "metadata": {},
   "outputs": [
    {
     "name": "stdout",
     "output_type": "stream",
     "text": [
      "2906969180\n"
     ]
    }
   ],
   "source": [
    "print(palindrome_sum(100000000))"
   ]
  }
 ],
 "metadata": {
  "kernelspec": {
   "display_name": "Python 3",
   "language": "python",
   "name": "python3"
  },
  "language_info": {
   "codemirror_mode": {
    "name": "ipython",
    "version": 3
   },
   "file_extension": ".py",
   "mimetype": "text/x-python",
   "name": "python",
   "nbconvert_exporter": "python",
   "pygments_lexer": "ipython3",
   "version": "3.7.6"
  }
 },
 "nbformat": 4,
 "nbformat_minor": 4
}
