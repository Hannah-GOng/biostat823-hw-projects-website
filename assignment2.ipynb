{
 "cells": [
  {
   "cell_type": "code",
   "execution_count": 1,
   "metadata": {},
   "outputs": [],
   "source": [
    "### Han Gong\n",
    "### Assignment Blog: https://hannah-gong.github.io/biostat823-hw-projects-website/\n",
    "### Repo: https://github.com/Hannah-GOng/biostat823-hw-projects-website"
   ]
  },
  {
   "cell_type": "markdown",
   "metadata": {},
   "source": [
    "### Function"
   ]
  },
  {
   "cell_type": "code",
   "execution_count": 1,
   "metadata": {},
   "outputs": [],
   "source": [
    "import sympy as sym\n",
    "import mpmath as mp"
   ]
  },
  {
   "cell_type": "code",
   "execution_count": 2,
   "metadata": {},
   "outputs": [],
   "source": [
    "def generate(num, n):\n",
    "    '''\n",
    "    generate an arbitrary large expansion of a mathematical expression\n",
    "    n: number of digit\n",
    "    num: mathematical expression\n",
    "    '''\n",
    "    mp.dps = n\n",
    "    return sym.Float(num, n)"
   ]
  },
  {
   "cell_type": "code",
   "execution_count": 3,
   "metadata": {},
   "outputs": [],
   "source": [
    "def isprm(num):\n",
    "    '''\n",
    "    fuction to check if a number is prime\n",
    "    return True for a prime number\n",
    "    '''\n",
    "    flag = True\n",
    "    \n",
    "    if num <= 1:\n",
    "        flag = False\n",
    "    \n",
    "    if num > 1:\n",
    "        for i in range(2, num):\n",
    "            if (num % i) == 0:\n",
    "                flag = False\n",
    "                break\n",
    "    return flag"
   ]
  },
  {
   "cell_type": "code",
   "execution_count": 37,
   "metadata": {},
   "outputs": [],
   "source": [
    "def find_prime(expansion, digit):\n",
    "    '''\n",
    "    function to generate sliding windows of a specified width \n",
    "    from a long iterable and check for prime numbers\n",
    "    expansion: target expansion for prime checking\n",
    "    digit: number of digit in the window\n",
    "    '''\n",
    "    \n",
    "    p = str(expansion).split('.')[1]\n",
    "    \n",
    "    for i in range(len(p) - digit):\n",
    "        curr = p[i:i+digit]    \n",
    "        if isprm(int(curr)) == True:\n",
    "            return curr\n",
    "        \n",
    "    return 'None'"
   ]
  },
  {
   "cell_type": "markdown",
   "metadata": {},
   "source": [
    "### Unit Test"
   ]
  },
  {
   "cell_type": "code",
   "execution_count": 44,
   "metadata": {},
   "outputs": [
    {
     "name": "stdout",
     "output_type": "stream",
     "text": [
      "Everything passed\n"
     ]
    }
   ],
   "source": [
    "def test_generate():\n",
    "    assert str(generate(sym.pi, 3)) == '3.14', \"Should be 3.14\"\n",
    "\n",
    "def test_prime():\n",
    "    assert isprm(1) == False, \"1 is not prime\"\n",
    "    assert isprm(3) == True, \"3 is a prime\"\n",
    "    assert isprm(5) == True, \"5 is a prime\"\n",
    "    assert isprm(10) == False, \"10 is not a prime\"\n",
    "\n",
    "def test_find():\n",
    "    assert find_prime(generate(sym.pi, 7), 4) == '4159', 'Should be 4159'\n",
    "    assert find_prime(generate(sym.pi, 3), 1) == 'None', \"There's no Prime Number\"\n",
    "    assert find_prime(generate(mp.e, 500), 10) == '7427466391', \"Should be 7427466391\"\n",
    "    \n",
    "if __name__ == \"__main__\":\n",
    "    test_generate()\n",
    "    test_prime()\n",
    "    test_find()\n",
    "    print(\"Everything passed\")"
   ]
  },
  {
   "cell_type": "markdown",
   "metadata": {},
   "source": [
    "### Output"
   ]
  },
  {
   "cell_type": "code",
   "execution_count": 49,
   "metadata": {},
   "outputs": [
    {
     "data": {
      "text/plain": [
       "'8649375157'"
      ]
     },
     "execution_count": 49,
     "metadata": {},
     "output_type": "execute_result"
    }
   ],
   "source": [
    "find_prime(generate(sym.pi * 17, 1000), 10)"
   ]
  }
 ],
 "metadata": {
  "kernelspec": {
   "display_name": "Python 3",
   "language": "python",
   "name": "python3"
  },
  "language_info": {
   "codemirror_mode": {
    "name": "ipython",
    "version": 3
   },
   "file_extension": ".py",
   "mimetype": "text/x-python",
   "name": "python",
   "nbconvert_exporter": "python",
   "pygments_lexer": "ipython3",
   "version": "3.7.6"
  }
 },
 "nbformat": 4,
 "nbformat_minor": 4
}
